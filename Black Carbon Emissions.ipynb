{
 "cells": [
  {
   "cell_type": "code",
   "execution_count": 42,
   "id": "d04cd326",
   "metadata": {},
   "outputs": [],
   "source": [
    "#Please note the following analysis is only for learning purposes.\n",
    "#the dataset of the analysis can be found in the following link https://open.canada.ca/data/en/dataset/d00dd235-d194-4932-9ec0-45011d2bd347\n",
    "#this analysis is about the black carbon emission in Canada, specifically the amount of the particulate matter (PM2.5) emissions from combustion-related sources  \n",
    "import pandas as pd\n",
    "import seaborn as sns\n",
    "import matplotlib.pyplot as plt\n",
    "import numpy as np\n",
    "import missingno as msno\n",
    "\n",
    "pd.options.display.max_rows =40\n",
    "data = pd.read_csv(r\"...filepath\\EN_BC_CanProvTerr.csv\", sep=';')"
   ]
  },
  {
   "cell_type": "code",
   "execution_count": 43,
   "id": "bcad356b",
   "metadata": {},
   "outputs": [
    {
     "data": {
      "text/html": [
       "<div>\n",
       "<style scoped>\n",
       "    .dataframe tbody tr th:only-of-type {\n",
       "        vertical-align: middle;\n",
       "    }\n",
       "\n",
       "    .dataframe tbody tr th {\n",
       "        vertical-align: top;\n",
       "    }\n",
       "\n",
       "    .dataframe thead th {\n",
       "        text-align: right;\n",
       "    }\n",
       "</style>\n",
       "<table border=\"1\" class=\"dataframe\">\n",
       "  <thead>\n",
       "    <tr style=\"text-align: right;\">\n",
       "      <th></th>\n",
       "      <th>Index</th>\n",
       "      <th>Source</th>\n",
       "      <th>Sector</th>\n",
       "      <th>Subsector</th>\n",
       "      <th>Region</th>\n",
       "      <th>2013 PM25 (tonnes)</th>\n",
       "      <th>2014 PM25 (tonnes)</th>\n",
       "      <th>2015 PM25 (tonnes)</th>\n",
       "      <th>2016 PM25 (tonnes)</th>\n",
       "      <th>2017 PM25 (tonnes)</th>\n",
       "      <th>2018 PM25 (tonnes)</th>\n",
       "      <th>2019 PM25 (tonnes)</th>\n",
       "      <th>2013 BC (tonnes)</th>\n",
       "      <th>2014 BC (tonnes)</th>\n",
       "      <th>2015 BC (tonnes)</th>\n",
       "      <th>2016 BC (tonnes)</th>\n",
       "      <th>2017 BC (tonnes)</th>\n",
       "      <th>2018 BC (tonnes)</th>\n",
       "      <th>2019 BC (tonnes)</th>\n",
       "    </tr>\n",
       "  </thead>\n",
       "  <tbody>\n",
       "    <tr>\n",
       "      <th>0</th>\n",
       "      <td>1</td>\n",
       "      <td>Ore and Mineral Industries</td>\n",
       "      <td>NaN</td>\n",
       "      <td>NaN</td>\n",
       "      <td>AB</td>\n",
       "      <td>236.9665</td>\n",
       "      <td>219.5573</td>\n",
       "      <td>160.3125</td>\n",
       "      <td>201.1650</td>\n",
       "      <td>214.4323</td>\n",
       "      <td>212.6911</td>\n",
       "      <td>256.318964</td>\n",
       "      <td>4.303720</td>\n",
       "      <td>4.159094</td>\n",
       "      <td>3.572919</td>\n",
       "      <td>5.018986</td>\n",
       "      <td>3.067963</td>\n",
       "      <td>3.005692</td>\n",
       "      <td>3.424503</td>\n",
       "    </tr>\n",
       "    <tr>\n",
       "      <th>1</th>\n",
       "      <td>1</td>\n",
       "      <td>Ore and Mineral Industries</td>\n",
       "      <td>NaN</td>\n",
       "      <td>NaN</td>\n",
       "      <td>NB</td>\n",
       "      <td>56.7428</td>\n",
       "      <td>87.0813</td>\n",
       "      <td>10.8401</td>\n",
       "      <td>1.0808</td>\n",
       "      <td>1.8107</td>\n",
       "      <td>1.5820</td>\n",
       "      <td>1.820000</td>\n",
       "      <td>1.577764</td>\n",
       "      <td>2.271267</td>\n",
       "      <td>0.276327</td>\n",
       "      <td>0.003565</td>\n",
       "      <td>0.006853</td>\n",
       "      <td>0.005945</td>\n",
       "      <td>0.006790</td>\n",
       "    </tr>\n",
       "  </tbody>\n",
       "</table>\n",
       "</div>"
      ],
      "text/plain": [
       "   Index                      Source Sector Subsector Region  \\\n",
       "0      1  Ore and Mineral Industries    NaN       NaN     AB   \n",
       "1      1  Ore and Mineral Industries    NaN       NaN     NB   \n",
       "\n",
       "   2013 PM25 (tonnes)  2014 PM25 (tonnes)  2015 PM25 (tonnes)  \\\n",
       "0            236.9665            219.5573            160.3125   \n",
       "1             56.7428             87.0813             10.8401   \n",
       "\n",
       "   2016 PM25 (tonnes)  2017 PM25 (tonnes)  2018 PM25 (tonnes)  \\\n",
       "0            201.1650            214.4323            212.6911   \n",
       "1              1.0808              1.8107              1.5820   \n",
       "\n",
       "   2019 PM25 (tonnes)  2013 BC (tonnes)  2014 BC (tonnes)  2015 BC (tonnes)  \\\n",
       "0          256.318964          4.303720          4.159094          3.572919   \n",
       "1            1.820000          1.577764          2.271267          0.276327   \n",
       "\n",
       "   2016 BC (tonnes)  2017 BC (tonnes)  2018 BC (tonnes)  2019 BC (tonnes)  \n",
       "0          5.018986          3.067963          3.005692          3.424503  \n",
       "1          0.003565          0.006853          0.005945          0.006790  "
      ]
     },
     "execution_count": 43,
     "metadata": {},
     "output_type": "execute_result"
    }
   ],
   "source": [
    "data.head(2)"
   ]
  },
  {
   "cell_type": "code",
   "execution_count": 44,
   "id": "a1d4d9d8",
   "metadata": {},
   "outputs": [
    {
     "data": {
      "text/plain": [
       "(438, 19)"
      ]
     },
     "execution_count": 44,
     "metadata": {},
     "output_type": "execute_result"
    }
   ],
   "source": [
    "data.shape"
   ]
  },
  {
   "cell_type": "code",
   "execution_count": 45,
   "id": "83be3b33",
   "metadata": {},
   "outputs": [
    {
     "data": {
      "text/plain": [
       "array(['AB', 'NB', 'NL', 'NS', 'NT', 'NU', 'ON', 'QC', 'SK', 'YT', 'BC',\n",
       "       'MB', 'PE'], dtype=object)"
      ]
     },
     "execution_count": 45,
     "metadata": {},
     "output_type": "execute_result"
    }
   ],
   "source": [
    "#find unique values\n",
    "data['Region'].unique() "
   ]
  },
  {
   "cell_type": "code",
   "execution_count": 46,
   "id": "a5755d24",
   "metadata": {},
   "outputs": [
    {
     "name": "stdout",
     "output_type": "stream",
     "text": [
      "<class 'pandas.core.frame.DataFrame'>\n",
      "RangeIndex: 438 entries, 0 to 437\n",
      "Data columns (total 19 columns):\n",
      " #   Column              Non-Null Count  Dtype  \n",
      "---  ------              --------------  -----  \n",
      " 0   Index               438 non-null    int64  \n",
      " 1   Source              438 non-null    object \n",
      " 2   Sector              358 non-null    object \n",
      " 3   Subsector           309 non-null    object \n",
      " 4   Region              438 non-null    object \n",
      " 5   2013 PM25 (tonnes)  425 non-null    float64\n",
      " 6   2014 PM25 (tonnes)  423 non-null    float64\n",
      " 7   2015 PM25 (tonnes)  429 non-null    float64\n",
      " 8   2016 PM25 (tonnes)  432 non-null    float64\n",
      " 9   2017 PM25 (tonnes)  433 non-null    float64\n",
      " 10  2018 PM25 (tonnes)  436 non-null    float64\n",
      " 11  2019 PM25 (tonnes)  434 non-null    float64\n",
      " 12  2013 BC (tonnes)    425 non-null    float64\n",
      " 13  2014 BC (tonnes)    423 non-null    float64\n",
      " 14  2015 BC (tonnes)    429 non-null    float64\n",
      " 15  2016 BC (tonnes)    432 non-null    float64\n",
      " 16  2017 BC (tonnes)    433 non-null    float64\n",
      " 17  2018 BC (tonnes)    436 non-null    float64\n",
      " 18  2019 BC (tonnes)    434 non-null    float64\n",
      "dtypes: float64(14), int64(1), object(4)\n",
      "memory usage: 65.1+ KB\n"
     ]
    }
   ],
   "source": [
    "data.info()"
   ]
  },
  {
   "cell_type": "code",
   "execution_count": 47,
   "id": "5f3d13eb",
   "metadata": {},
   "outputs": [],
   "source": [
    "# matrix shows MAR\n",
    "#the following matrix shows, the \"Sector\" field is MAR, and this could be a systematic relationship between missingness and other obserbed data but not the missing data"
   ]
  },
  {
   "cell_type": "code",
   "execution_count": 48,
   "id": "68cb456c",
   "metadata": {},
   "outputs": [
    {
     "data": {
      "image/png": "[encoded data removed]",
      "text/plain": [
       "<Figure size 1800x720 with 2 Axes>"
      ]
     },
     "metadata": {
      "needs_background": "light"
     },
     "output_type": "display_data"
    }
   ],
   "source": [
    "#visualize missing values in the dataset\n",
    "msdf = data[[\"Region\", \"Source\",\"Sector\", \"Subsector\", \"2017 PM25 (tonnes)\", \"2018 PM25 (tonnes)\"]]\n",
    "msno.matrix(msdf, sort='ascending')\n",
    "plt.show()"
   ]
  },
  {
   "cell_type": "code",
   "execution_count": 49,
   "id": "fb604ac5",
   "metadata": {},
   "outputs": [],
   "source": [
    "# eventhough the sector field seems to be MAR, but below shows no correlation at all; this could be a systematic relationship between missingness and other obserbed data but not the missing data"
   ]
  },
  {
   "cell_type": "code",
   "execution_count": 50,
   "id": "b8187698",
   "metadata": {},
   "outputs": [
    {
     "data": {
      "text/plain": [
       "<AxesSubplot:>"
      ]
     },
     "execution_count": 50,
     "metadata": {},
     "output_type": "execute_result"
    },
    {
     "data": {
      "image/png": "[encoded data removed]",
      "text/plain": [
       "<Figure size 1440x864 with 2 Axes>"
      ]
     },
     "metadata": {
      "needs_background": "light"
     },
     "output_type": "display_data"
    }
   ],
   "source": [
    "msno.heatmap(msdf.sort_values(\"Source\"), cmap=\"rainbow\")"
   ]
  },
  {
   "cell_type": "code",
   "execution_count": 53,
   "id": "81b5828e",
   "metadata": {},
   "outputs": [],
   "source": [
    "# further analysis - if we look at the 2017PM2.5(tonnes) & 2018PM2.5(tonnes) fields respectively all the missing values seem to be obove 1792 PM2.5 and 1814 PM2.5"
   ]
  },
  {
   "cell_type": "code",
   "execution_count": 54,
   "id": "ffed6894",
   "metadata": {},
   "outputs": [
    {
     "data": {
      "text/plain": [
       "(       2017 PM25 (tonnes)  2018 PM25 (tonnes)\n",
       " count           79.000000           80.000000\n",
       " mean          1792.266337         1814.234085\n",
       " std           4671.526527         4829.118418\n",
       " min              0.138458            0.030000\n",
       " 25%             36.865000           37.248057\n",
       " 50%            214.432300          206.278797\n",
       " 75%           1725.440295         1415.386575\n",
       " max          34964.267420        36381.135680,\n",
       "        2017 PM25 (tonnes)  2018 PM25 (tonnes)\n",
       " count          354.000000          356.000000\n",
       " mean           695.101605          712.529416\n",
       " std           2477.737775         2568.411826\n",
       " min              0.000000            0.000000\n",
       " 25%              3.499067            4.443048\n",
       " 50%             50.572271           51.698849\n",
       " 75%            446.305446          427.620575\n",
       " max          34431.120390        35869.436520)"
      ]
     },
     "execution_count": 54,
     "metadata": {},
     "output_type": "execute_result"
    }
   ],
   "source": [
    "missing_df =msdf[msdf['Sector'].isna()]\n",
    "complete_df = msdf[~msdf['Sector'].isna()]\n",
    "\n",
    "missing_df.describe(), complete_df.describe()"
   ]
  },
  {
   "cell_type": "code",
   "execution_count": 56,
   "id": "510a9160",
   "metadata": {},
   "outputs": [
    {
     "data": {
      "text/html": [
       "<div>\n",
       "<style scoped>\n",
       "    .dataframe tbody tr th:only-of-type {\n",
       "        vertical-align: middle;\n",
       "    }\n",
       "\n",
       "    .dataframe tbody tr th {\n",
       "        vertical-align: top;\n",
       "    }\n",
       "\n",
       "    .dataframe thead th {\n",
       "        text-align: right;\n",
       "    }\n",
       "</style>\n",
       "<table border=\"1\" class=\"dataframe\">\n",
       "  <thead>\n",
       "    <tr style=\"text-align: right;\">\n",
       "      <th></th>\n",
       "      <th>Index</th>\n",
       "      <th>2013 PM25 (tonnes)</th>\n",
       "      <th>2014 PM25 (tonnes)</th>\n",
       "      <th>2015 PM25 (tonnes)</th>\n",
       "      <th>2016 PM25 (tonnes)</th>\n",
       "      <th>2017 PM25 (tonnes)</th>\n",
       "      <th>2018 PM25 (tonnes)</th>\n",
       "      <th>2019 PM25 (tonnes)</th>\n",
       "      <th>2013 BC (tonnes)</th>\n",
       "      <th>2014 BC (tonnes)</th>\n",
       "      <th>2015 BC (tonnes)</th>\n",
       "      <th>2016 BC (tonnes)</th>\n",
       "      <th>2017 BC (tonnes)</th>\n",
       "      <th>2018 BC (tonnes)</th>\n",
       "      <th>2019 BC (tonnes)</th>\n",
       "    </tr>\n",
       "  </thead>\n",
       "  <tbody>\n",
       "    <tr>\n",
       "      <th>count</th>\n",
       "      <td>35.000000</td>\n",
       "      <td>35.000000</td>\n",
       "      <td>35.000000</td>\n",
       "      <td>35.000000</td>\n",
       "      <td>35.000000</td>\n",
       "      <td>35.000000</td>\n",
       "      <td>35.000000</td>\n",
       "      <td>35.000000</td>\n",
       "      <td>35.000000</td>\n",
       "      <td>35.000000</td>\n",
       "      <td>35.000000</td>\n",
       "      <td>35.000000</td>\n",
       "      <td>35.000000</td>\n",
       "      <td>35.000000</td>\n",
       "      <td>35.000000</td>\n",
       "    </tr>\n",
       "    <tr>\n",
       "      <th>mean</th>\n",
       "      <td>46.342857</td>\n",
       "      <td>5308.472677</td>\n",
       "      <td>5284.201972</td>\n",
       "      <td>5046.494858</td>\n",
       "      <td>4680.642986</td>\n",
       "      <td>4618.812343</td>\n",
       "      <td>4776.377898</td>\n",
       "      <td>4745.988377</td>\n",
       "      <td>490.962605</td>\n",
       "      <td>491.530009</td>\n",
       "      <td>471.266487</td>\n",
       "      <td>444.472869</td>\n",
       "      <td>447.172229</td>\n",
       "      <td>465.785386</td>\n",
       "      <td>463.869291</td>\n",
       "    </tr>\n",
       "    <tr>\n",
       "      <th>std</th>\n",
       "      <td>2.950004</td>\n",
       "      <td>10484.164474</td>\n",
       "      <td>10641.905984</td>\n",
       "      <td>10289.221460</td>\n",
       "      <td>9264.225181</td>\n",
       "      <td>8691.399695</td>\n",
       "      <td>9043.031385</td>\n",
       "      <td>9054.076372</td>\n",
       "      <td>900.585993</td>\n",
       "      <td>920.629430</td>\n",
       "      <td>894.163476</td>\n",
       "      <td>811.389512</td>\n",
       "      <td>773.757836</td>\n",
       "      <td>809.659268</td>\n",
       "      <td>815.169027</td>\n",
       "    </tr>\n",
       "    <tr>\n",
       "      <th>min</th>\n",
       "      <td>43.000000</td>\n",
       "      <td>0.783000</td>\n",
       "      <td>0.211000</td>\n",
       "      <td>0.171000</td>\n",
       "      <td>0.150000</td>\n",
       "      <td>0.187500</td>\n",
       "      <td>0.205000</td>\n",
       "      <td>0.244500</td>\n",
       "      <td>0.025069</td>\n",
       "      <td>0.010285</td>\n",
       "      <td>0.009317</td>\n",
       "      <td>0.008338</td>\n",
       "      <td>0.010422</td>\n",
       "      <td>0.012023</td>\n",
       "      <td>0.015097</td>\n",
       "    </tr>\n",
       "    <tr>\n",
       "      <th>25%</th>\n",
       "      <td>43.000000</td>\n",
       "      <td>83.988767</td>\n",
       "      <td>84.801371</td>\n",
       "      <td>85.479468</td>\n",
       "      <td>119.559501</td>\n",
       "      <td>117.297138</td>\n",
       "      <td>123.505420</td>\n",
       "      <td>133.415840</td>\n",
       "      <td>8.173964</td>\n",
       "      <td>8.046368</td>\n",
       "      <td>7.267541</td>\n",
       "      <td>7.103491</td>\n",
       "      <td>6.929292</td>\n",
       "      <td>7.370927</td>\n",
       "      <td>8.077083</td>\n",
       "    </tr>\n",
       "    <tr>\n",
       "      <th>50%</th>\n",
       "      <td>46.000000</td>\n",
       "      <td>964.189467</td>\n",
       "      <td>940.874951</td>\n",
       "      <td>820.734357</td>\n",
       "      <td>942.643143</td>\n",
       "      <td>1163.345764</td>\n",
       "      <td>1234.632129</td>\n",
       "      <td>1220.523056</td>\n",
       "      <td>88.648099</td>\n",
       "      <td>85.194449</td>\n",
       "      <td>77.645897</td>\n",
       "      <td>84.128518</td>\n",
       "      <td>107.300209</td>\n",
       "      <td>121.091046</td>\n",
       "      <td>123.444545</td>\n",
       "    </tr>\n",
       "    <tr>\n",
       "      <th>75%</th>\n",
       "      <td>50.000000</td>\n",
       "      <td>5343.294713</td>\n",
       "      <td>4678.175521</td>\n",
       "      <td>3753.222182</td>\n",
       "      <td>4131.155302</td>\n",
       "      <td>4657.695825</td>\n",
       "      <td>4475.543703</td>\n",
       "      <td>4556.531806</td>\n",
       "      <td>519.111409</td>\n",
       "      <td>461.527835</td>\n",
       "      <td>376.894129</td>\n",
       "      <td>488.846779</td>\n",
       "      <td>479.536030</td>\n",
       "      <td>485.174617</td>\n",
       "      <td>491.099805</td>\n",
       "    </tr>\n",
       "    <tr>\n",
       "      <th>max</th>\n",
       "      <td>50.000000</td>\n",
       "      <td>42126.061550</td>\n",
       "      <td>42758.186930</td>\n",
       "      <td>41661.144800</td>\n",
       "      <td>37713.090400</td>\n",
       "      <td>34964.267420</td>\n",
       "      <td>36381.135680</td>\n",
       "      <td>36333.797460</td>\n",
       "      <td>3552.540412</td>\n",
       "      <td>3632.294563</td>\n",
       "      <td>3566.400240</td>\n",
       "      <td>3258.769540</td>\n",
       "      <td>3055.659027</td>\n",
       "      <td>3193.141607</td>\n",
       "      <td>3214.602660</td>\n",
       "    </tr>\n",
       "  </tbody>\n",
       "</table>\n",
       "</div>"
      ],
      "text/plain": [
       "           Index  2013 PM25 (tonnes)  2014 PM25 (tonnes)  2015 PM25 (tonnes)  \\\n",
       "count  35.000000           35.000000           35.000000           35.000000   \n",
       "mean   46.342857         5308.472677         5284.201972         5046.494858   \n",
       "std     2.950004        10484.164474        10641.905984        10289.221460   \n",
       "min    43.000000            0.783000            0.211000            0.171000   \n",
       "25%    43.000000           83.988767           84.801371           85.479468   \n",
       "50%    46.000000          964.189467          940.874951          820.734357   \n",
       "75%    50.000000         5343.294713         4678.175521         3753.222182   \n",
       "max    50.000000        42126.061550        42758.186930        41661.144800   \n",
       "\n",
       "       2016 PM25 (tonnes)  2017 PM25 (tonnes)  2018 PM25 (tonnes)  \\\n",
       "count           35.000000           35.000000           35.000000   \n",
       "mean          4680.642986         4618.812343         4776.377898   \n",
       "std           9264.225181         8691.399695         9043.031385   \n",
       "min              0.150000            0.187500            0.205000   \n",
       "25%            119.559501          117.297138          123.505420   \n",
       "50%            942.643143         1163.345764         1234.632129   \n",
       "75%           4131.155302         4657.695825         4475.543703   \n",
       "max          37713.090400        34964.267420        36381.135680   \n",
       "\n",
       "       2019 PM25 (tonnes)  2013 BC (tonnes)  2014 BC (tonnes)  \\\n",
       "count           35.000000         35.000000         35.000000   \n",
       "mean          4745.988377        490.962605        491.530009   \n",
       "std           9054.076372        900.585993        920.629430   \n",
       "min              0.244500          0.025069          0.010285   \n",
       "25%            133.415840          8.173964          8.046368   \n",
       "50%           1220.523056         88.648099         85.194449   \n",
       "75%           4556.531806        519.111409        461.527835   \n",
       "max          36333.797460       3552.540412       3632.294563   \n",
       "\n",
       "       2015 BC (tonnes)  2016 BC (tonnes)  2017 BC (tonnes)  2018 BC (tonnes)  \\\n",
       "count         35.000000         35.000000         35.000000         35.000000   \n",
       "mean         471.266487        444.472869        447.172229        465.785386   \n",
       "std          894.163476        811.389512        773.757836        809.659268   \n",
       "min            0.009317          0.008338          0.010422          0.012023   \n",
       "25%            7.267541          7.103491          6.929292          7.370927   \n",
       "50%           77.645897         84.128518        107.300209        121.091046   \n",
       "75%          376.894129        488.846779        479.536030        485.174617   \n",
       "max         3566.400240       3258.769540       3055.659027       3193.141607   \n",
       "\n",
       "       2019 BC (tonnes)  \n",
       "count         35.000000  \n",
       "mean         463.869291  \n",
       "std          815.169027  \n",
       "min            0.015097  \n",
       "25%            8.077083  \n",
       "50%          123.444545  \n",
       "75%          491.099805  \n",
       "max         3214.602660  "
      ]
     },
     "execution_count": 56,
     "metadata": {},
     "output_type": "execute_result"
    }
   ],
   "source": [
    "#The field 'subsector' is a subcategory of the field 'Source' with 35 rows of null values \n",
    "count_subsectorna = data[(data['Source'] == 'Commercial / Residential / Institutional') & (data['Subsector'].isna())]\n",
    "count_subsectorna.describe()"
   ]
  },
  {
   "cell_type": "code",
   "execution_count": 11,
   "id": "ef66d43c",
   "metadata": {},
   "outputs": [
    {
     "data": {
      "text/html": [
       "<div>\n",
       "<style scoped>\n",
       "    .dataframe tbody tr th:only-of-type {\n",
       "        vertical-align: middle;\n",
       "    }\n",
       "\n",
       "    .dataframe tbody tr th {\n",
       "        vertical-align: top;\n",
       "    }\n",
       "\n",
       "    .dataframe thead th {\n",
       "        text-align: right;\n",
       "    }\n",
       "</style>\n",
       "<table border=\"1\" class=\"dataframe\">\n",
       "  <thead>\n",
       "    <tr style=\"text-align: right;\">\n",
       "      <th></th>\n",
       "      <th>Index</th>\n",
       "      <th>2013 PM25 (tonnes)</th>\n",
       "      <th>2014 PM25 (tonnes)</th>\n",
       "      <th>2015 PM25 (tonnes)</th>\n",
       "      <th>2016 PM25 (tonnes)</th>\n",
       "      <th>2017 PM25 (tonnes)</th>\n",
       "      <th>2018 PM25 (tonnes)</th>\n",
       "      <th>2019 PM25 (tonnes)</th>\n",
       "      <th>2013 BC (tonnes)</th>\n",
       "      <th>2014 BC (tonnes)</th>\n",
       "      <th>2015 BC (tonnes)</th>\n",
       "      <th>2016 BC (tonnes)</th>\n",
       "      <th>2017 BC (tonnes)</th>\n",
       "      <th>2018 BC (tonnes)</th>\n",
       "      <th>2019 BC (tonnes)</th>\n",
       "    </tr>\n",
       "  </thead>\n",
       "  <tbody>\n",
       "    <tr>\n",
       "      <th>count</th>\n",
       "      <td>12.0</td>\n",
       "      <td>12.000000</td>\n",
       "      <td>12.000000</td>\n",
       "      <td>12.000000</td>\n",
       "      <td>12.000000</td>\n",
       "      <td>12.000000</td>\n",
       "      <td>12.000000</td>\n",
       "      <td>12.000000</td>\n",
       "      <td>12.000000</td>\n",
       "      <td>12.000000</td>\n",
       "      <td>12.000000</td>\n",
       "      <td>12.000000</td>\n",
       "      <td>12.000000</td>\n",
       "      <td>12.000000</td>\n",
       "      <td>12.000000</td>\n",
       "    </tr>\n",
       "    <tr>\n",
       "      <th>mean</th>\n",
       "      <td>43.0</td>\n",
       "      <td>7840.220178</td>\n",
       "      <td>7810.810597</td>\n",
       "      <td>7459.319170</td>\n",
       "      <td>6926.032396</td>\n",
       "      <td>6844.607252</td>\n",
       "      <td>7077.490744</td>\n",
       "      <td>7036.572439</td>\n",
       "      <td>752.271087</td>\n",
       "      <td>755.266276</td>\n",
       "      <td>724.052734</td>\n",
       "      <td>685.497485</td>\n",
       "      <td>692.872887</td>\n",
       "      <td>721.362117</td>\n",
       "      <td>719.753827</td>\n",
       "    </tr>\n",
       "    <tr>\n",
       "      <th>std</th>\n",
       "      <td>0.0</td>\n",
       "      <td>12406.934155</td>\n",
       "      <td>12627.418817</td>\n",
       "      <td>12222.274560</td>\n",
       "      <td>10988.603426</td>\n",
       "      <td>10278.855259</td>\n",
       "      <td>10700.293276</td>\n",
       "      <td>10730.415328</td>\n",
       "      <td>1073.948081</td>\n",
       "      <td>1102.978605</td>\n",
       "      <td>1071.858674</td>\n",
       "      <td>972.548729</td>\n",
       "      <td>928.086387</td>\n",
       "      <td>970.207773</td>\n",
       "      <td>979.552403</td>\n",
       "    </tr>\n",
       "    <tr>\n",
       "      <th>min</th>\n",
       "      <td>43.0</td>\n",
       "      <td>2.975000</td>\n",
       "      <td>1.173500</td>\n",
       "      <td>1.142000</td>\n",
       "      <td>0.988000</td>\n",
       "      <td>0.837500</td>\n",
       "      <td>1.095000</td>\n",
       "      <td>1.000500</td>\n",
       "      <td>0.341681</td>\n",
       "      <td>0.187901</td>\n",
       "      <td>0.186221</td>\n",
       "      <td>0.163706</td>\n",
       "      <td>0.164599</td>\n",
       "      <td>0.210931</td>\n",
       "      <td>0.230710</td>\n",
       "    </tr>\n",
       "    <tr>\n",
       "      <th>25%</th>\n",
       "      <td>43.0</td>\n",
       "      <td>923.680096</td>\n",
       "      <td>857.901626</td>\n",
       "      <td>726.302584</td>\n",
       "      <td>872.987386</td>\n",
       "      <td>1097.932231</td>\n",
       "      <td>1218.658348</td>\n",
       "      <td>1240.465285</td>\n",
       "      <td>124.385253</td>\n",
       "      <td>116.740193</td>\n",
       "      <td>100.759641</td>\n",
       "      <td>120.826074</td>\n",
       "      <td>149.088893</td>\n",
       "      <td>164.398998</td>\n",
       "      <td>166.854461</td>\n",
       "    </tr>\n",
       "    <tr>\n",
       "      <th>50%</th>\n",
       "      <td>43.0</td>\n",
       "      <td>2180.909978</td>\n",
       "      <td>2105.259428</td>\n",
       "      <td>1785.346982</td>\n",
       "      <td>2695.125829</td>\n",
       "      <td>3417.280426</td>\n",
       "      <td>3500.168158</td>\n",
       "      <td>3426.121563</td>\n",
       "      <td>327.098775</td>\n",
       "      <td>322.407939</td>\n",
       "      <td>278.219740</td>\n",
       "      <td>357.076296</td>\n",
       "      <td>361.374053</td>\n",
       "      <td>379.608530</td>\n",
       "      <td>378.186709</td>\n",
       "    </tr>\n",
       "    <tr>\n",
       "      <th>75%</th>\n",
       "      <td>43.0</td>\n",
       "      <td>7695.106156</td>\n",
       "      <td>7515.227385</td>\n",
       "      <td>8058.527600</td>\n",
       "      <td>6482.563906</td>\n",
       "      <td>5533.434708</td>\n",
       "      <td>5832.388863</td>\n",
       "      <td>5726.840282</td>\n",
       "      <td>747.931183</td>\n",
       "      <td>734.868431</td>\n",
       "      <td>794.270506</td>\n",
       "      <td>646.127221</td>\n",
       "      <td>637.158011</td>\n",
       "      <td>663.848944</td>\n",
       "      <td>643.708951</td>\n",
       "    </tr>\n",
       "    <tr>\n",
       "      <th>max</th>\n",
       "      <td>43.0</td>\n",
       "      <td>42126.061550</td>\n",
       "      <td>42758.186930</td>\n",
       "      <td>41661.144800</td>\n",
       "      <td>37713.090400</td>\n",
       "      <td>34964.267420</td>\n",
       "      <td>36381.135680</td>\n",
       "      <td>36333.797460</td>\n",
       "      <td>3552.540412</td>\n",
       "      <td>3632.294563</td>\n",
       "      <td>3566.400240</td>\n",
       "      <td>3258.769540</td>\n",
       "      <td>3055.659027</td>\n",
       "      <td>3193.141607</td>\n",
       "      <td>3214.602660</td>\n",
       "    </tr>\n",
       "  </tbody>\n",
       "</table>\n",
       "</div>"
      ],
      "text/plain": [
       "       Index  2013 PM25 (tonnes)  2014 PM25 (tonnes)  2015 PM25 (tonnes)  \\\n",
       "count   12.0           12.000000           12.000000           12.000000   \n",
       "mean    43.0         7840.220178         7810.810597         7459.319170   \n",
       "std      0.0        12406.934155        12627.418817        12222.274560   \n",
       "min     43.0            2.975000            1.173500            1.142000   \n",
       "25%     43.0          923.680096          857.901626          726.302584   \n",
       "50%     43.0         2180.909978         2105.259428         1785.346982   \n",
       "75%     43.0         7695.106156         7515.227385         8058.527600   \n",
       "max     43.0        42126.061550        42758.186930        41661.144800   \n",
       "\n",
       "       2016 PM25 (tonnes)  2017 PM25 (tonnes)  2018 PM25 (tonnes)  \\\n",
       "count           12.000000           12.000000           12.000000   \n",
       "mean          6926.032396         6844.607252         7077.490744   \n",
       "std          10988.603426        10278.855259        10700.293276   \n",
       "min              0.988000            0.837500            1.095000   \n",
       "25%            872.987386         1097.932231         1218.658348   \n",
       "50%           2695.125829         3417.280426         3500.168158   \n",
       "75%           6482.563906         5533.434708         5832.388863   \n",
       "max          37713.090400        34964.267420        36381.135680   \n",
       "\n",
       "       2019 PM25 (tonnes)  2013 BC (tonnes)  2014 BC (tonnes)  \\\n",
       "count           12.000000         12.000000         12.000000   \n",
       "mean          7036.572439        752.271087        755.266276   \n",
       "std          10730.415328       1073.948081       1102.978605   \n",
       "min              1.000500          0.341681          0.187901   \n",
       "25%           1240.465285        124.385253        116.740193   \n",
       "50%           3426.121563        327.098775        322.407939   \n",
       "75%           5726.840282        747.931183        734.868431   \n",
       "max          36333.797460       3552.540412       3632.294563   \n",
       "\n",
       "       2015 BC (tonnes)  2016 BC (tonnes)  2017 BC (tonnes)  2018 BC (tonnes)  \\\n",
       "count         12.000000         12.000000         12.000000         12.000000   \n",
       "mean         724.052734        685.497485        692.872887        721.362117   \n",
       "std         1071.858674        972.548729        928.086387        970.207773   \n",
       "min            0.186221          0.163706          0.164599          0.210931   \n",
       "25%          100.759641        120.826074        149.088893        164.398998   \n",
       "50%          278.219740        357.076296        361.374053        379.608530   \n",
       "75%          794.270506        646.127221        637.158011        663.848944   \n",
       "max         3566.400240       3258.769540       3055.659027       3193.141607   \n",
       "\n",
       "       2019 BC (tonnes)  \n",
       "count         12.000000  \n",
       "mean         719.753827  \n",
       "std          979.552403  \n",
       "min            0.230710  \n",
       "25%          166.854461  \n",
       "50%          378.186709  \n",
       "75%          643.708951  \n",
       "max         3214.602660  "
      ]
     },
     "execution_count": 11,
     "metadata": {},
     "output_type": "execute_result"
    }
   ],
   "source": [
    "#field 'sector' is a subcategory of the field source with 12 rows null values\n",
    "count_sectorna = data[(data['Source'] == 'Commercial / Residential / Institutional') & (data['Sector'].isna())]\n",
    "count_sectorna.describe()"
   ]
  },
  {
   "cell_type": "code",
   "execution_count": 55,
   "id": "9e8d41f4",
   "metadata": {},
   "outputs": [],
   "source": [
    "# based on the obove analysis morethan 50% of the missing values are in the 'Commercial / Residential / Institutional'  category"
   ]
  },
  {
   "cell_type": "code",
   "execution_count": 60,
   "id": "e01a77ff",
   "metadata": {},
   "outputs": [],
   "source": [
    "#replacing null values with a default value: 'not identified'\n",
    "data['_Sector'] = data['Sector'].fillna('not identified')"
   ]
  },
  {
   "cell_type": "code",
   "execution_count": 61,
   "id": "9708ac02",
   "metadata": {},
   "outputs": [],
   "source": [
    "#repeated the above task for the subsector field \n",
    "data['_Subsector'] = data['Subsector'].fillna('not identified')"
   ]
  },
  {
   "cell_type": "code",
   "execution_count": 62,
   "id": "2963c7b4",
   "metadata": {},
   "outputs": [
    {
     "data": {
      "text/plain": [
       "0"
      ]
     },
     "execution_count": 62,
     "metadata": {},
     "output_type": "execute_result"
    }
   ],
   "source": [
    "data['_Subsector'].isna().sum()"
   ]
  },
  {
   "cell_type": "code",
   "execution_count": 63,
   "id": "53169bd2",
   "metadata": {},
   "outputs": [],
   "source": [
    "#column selection\n",
    "df = data[['Region','Source','_Sector','_Subsector','2017 PM25 (tonnes)','2018 PM25 (tonnes)','2019 PM25 (tonnes)']]\n",
    "df_BC = data[['Region','Source','_Sector','_Subsector','2017 BC (tonnes)','2018 BC (tonnes)', '2019 BC (tonnes)']]"
   ]
  },
  {
   "cell_type": "code",
   "execution_count": 64,
   "id": "51b4e441",
   "metadata": {},
   "outputs": [
    {
     "data": {
      "text/html": [
       "<div>\n",
       "<style scoped>\n",
       "    .dataframe tbody tr th:only-of-type {\n",
       "        vertical-align: middle;\n",
       "    }\n",
       "\n",
       "    .dataframe tbody tr th {\n",
       "        vertical-align: top;\n",
       "    }\n",
       "\n",
       "    .dataframe thead th {\n",
       "        text-align: right;\n",
       "    }\n",
       "</style>\n",
       "<table border=\"1\" class=\"dataframe\">\n",
       "  <thead>\n",
       "    <tr style=\"text-align: right;\">\n",
       "      <th></th>\n",
       "      <th>2017PM25_tonnes</th>\n",
       "      <th>2018PM25_tonnes</th>\n",
       "      <th>2019PM25_tonnes</th>\n",
       "    </tr>\n",
       "  </thead>\n",
       "  <tbody>\n",
       "    <tr>\n",
       "      <th>count</th>\n",
       "      <td>433.000000</td>\n",
       "      <td>436.000000</td>\n",
       "      <td>434.000000</td>\n",
       "    </tr>\n",
       "    <tr>\n",
       "      <th>mean</th>\n",
       "      <td>895.277156</td>\n",
       "      <td>914.677062</td>\n",
       "      <td>914.506838</td>\n",
       "    </tr>\n",
       "    <tr>\n",
       "      <th>std</th>\n",
       "      <td>3022.709592</td>\n",
       "      <td>3130.655449</td>\n",
       "      <td>3136.747974</td>\n",
       "    </tr>\n",
       "    <tr>\n",
       "      <th>min</th>\n",
       "      <td>0.000000</td>\n",
       "      <td>0.000000</td>\n",
       "      <td>0.000000</td>\n",
       "    </tr>\n",
       "    <tr>\n",
       "      <th>25%</th>\n",
       "      <td>5.626168</td>\n",
       "      <td>5.643054</td>\n",
       "      <td>5.708278</td>\n",
       "    </tr>\n",
       "    <tr>\n",
       "      <th>50%</th>\n",
       "      <td>74.517039</td>\n",
       "      <td>74.800043</td>\n",
       "      <td>72.920677</td>\n",
       "    </tr>\n",
       "    <tr>\n",
       "      <th>75%</th>\n",
       "      <td>566.070971</td>\n",
       "      <td>587.591863</td>\n",
       "      <td>549.107048</td>\n",
       "    </tr>\n",
       "    <tr>\n",
       "      <th>max</th>\n",
       "      <td>34964.267420</td>\n",
       "      <td>36381.135680</td>\n",
       "      <td>36333.797460</td>\n",
       "    </tr>\n",
       "  </tbody>\n",
       "</table>\n",
       "</div>"
      ],
      "text/plain": [
       "       2017PM25_tonnes  2018PM25_tonnes  2019PM25_tonnes\n",
       "count       433.000000       436.000000       434.000000\n",
       "mean        895.277156       914.677062       914.506838\n",
       "std        3022.709592      3130.655449      3136.747974\n",
       "min           0.000000         0.000000         0.000000\n",
       "25%           5.626168         5.643054         5.708278\n",
       "50%          74.517039        74.800043        72.920677\n",
       "75%         566.070971       587.591863       549.107048\n",
       "max       34964.267420     36381.135680     36333.797460"
      ]
     },
     "execution_count": 64,
     "metadata": {},
     "output_type": "execute_result"
    }
   ],
   "source": [
    "#rename some of the fields of the dataset\n",
    "df = df.rename(columns={'Source':'Source','_Sector':'Sector', '_Subsector':'Subsector','Region':'Region', '2017 PM25 (tonnes)':'2017PM25_tonnes','2018 PM25 (tonnes)':'2018PM25_tonnes', '2019 PM25 (tonnes)':'2019PM25_tonnes'})\n",
    "df_BC = df_BC.rename(columns={'Source':'Source','_Sector':'Sector','_Subsector':'Subsector','Region':'Region','2018 BC (tonnes)':'2018BC_PM25_tonnes', '2019 BC (tonnes)':'2019BC_PM25_tonnes'})\n",
    "df.describe()\n"
   ]
  },
  {
   "cell_type": "code",
   "execution_count": 66,
   "id": "c9f884f8",
   "metadata": {},
   "outputs": [
    {
     "data": {
      "text/plain": [
       "(Region             0\n",
       " Source             0\n",
       " Sector             0\n",
       " Subsector          0\n",
       " 2017PM25_tonnes    5\n",
       " 2018PM25_tonnes    2\n",
       " 2019PM25_tonnes    4\n",
       " dtype: int64,\n",
       " Region                0\n",
       " Source                0\n",
       " Sector                0\n",
       " Subsector             0\n",
       " 2017 BC (tonnes)      5\n",
       " 2018BC_PM25_tonnes    2\n",
       " 2019BC_PM25_tonnes    4\n",
       " dtype: int64)"
      ]
     },
     "execution_count": 66,
     "metadata": {},
     "output_type": "execute_result"
    }
   ],
   "source": [
    "#find null values for both dataframes: \n",
    "df.isna().sum(), df_BC.isna().sum()"
   ]
  },
  {
   "cell_type": "code",
   "execution_count": 67,
   "id": "4390f1d6",
   "metadata": {},
   "outputs": [
    {
     "data": {
      "text/plain": [
       "Region             0\n",
       "Source             0\n",
       "Sector             0\n",
       "Subsector          0\n",
       "2017PM25_tonnes    0\n",
       "2018PM25_tonnes    0\n",
       "2019PM25_tonnes    0\n",
       "dtype: int64"
      ]
     },
     "execution_count": 67,
     "metadata": {},
     "output_type": "execute_result"
    }
   ],
   "source": [
    "#filling null values with 0\n",
    "df = df.fillna(0)\n",
    "df.isna().sum()"
   ]
  },
  {
   "cell_type": "code",
   "execution_count": 68,
   "id": "89ba867a",
   "metadata": {},
   "outputs": [
    {
     "data": {
      "text/plain": [
       "Region                0\n",
       "Source                0\n",
       "Sector                0\n",
       "Subsector             0\n",
       "2017 BC (tonnes)      0\n",
       "2018BC_PM25_tonnes    0\n",
       "2019BC_PM25_tonnes    0\n",
       "dtype: int64"
      ]
     },
     "execution_count": 68,
     "metadata": {},
     "output_type": "execute_result"
    }
   ],
   "source": [
    "# since the dataset has extreme values I opts not to use mean to fillna\n",
    "df_BC = df_BC.fillna(0)\n",
    "df_BC.isna().sum()"
   ]
  },
  {
   "cell_type": "code",
   "execution_count": 70,
   "id": "5f6e63ec",
   "metadata": {},
   "outputs": [
    {
     "data": {
      "text/plain": [
       "<AxesSubplot:xlabel='2019PM25_tonnes'>"
      ]
     },
     "execution_count": 70,
     "metadata": {},
     "output_type": "execute_result"
    },
    {
     "data": {
      "image/png": "[encoded data removed]",
      "text/plain": [
       "<Figure size 576x504 with 1 Axes>"
      ]
     },
     "metadata": {
      "needs_background": "light"
     },
     "output_type": "display_data"
    }
   ],
   "source": [
    "#the box plot is showing the 2019PM25_tonnes is heavy right skewed with extreme values\n",
    "size =(8, 7)\n",
    "fig, ax = plt.subplots(figsize=size)\n",
    "sns.boxplot(ax=ax, x=df['2019PM25_tonnes'])"
   ]
  },
  {
   "cell_type": "code",
   "execution_count": 71,
   "id": "678418f7",
   "metadata": {},
   "outputs": [
    {
     "data": {
      "text/plain": [
       "<AxesSubplot:xlabel='2019BC_PM25_tonnes'>"
      ]
     },
     "execution_count": 71,
     "metadata": {},
     "output_type": "execute_result"
    },
    {
     "data": {
      "image/png": "[encoded data removed]",
      "text/plain": [
       "<Figure size 576x504 with 1 Axes>"
      ]
     },
     "metadata": {
      "needs_background": "light"
     },
     "output_type": "display_data"
    }
   ],
   "source": [
    "#BC dataset is also right skewed\n",
    "size =(8,7)\n",
    "fig, ax = plt.subplots(figsize=size)\n",
    "sns.boxplot(ax=ax, x=df_BC['2019BC_PM25_tonnes'])\n"
   ]
  },
  {
   "cell_type": "code",
   "execution_count": 72,
   "id": "914334b7",
   "metadata": {},
   "outputs": [
    {
     "data": {
      "image/png": "[encoded data removed]",
      "text/plain": [
       "<Figure size 1116x756 with 1 Axes>"
      ]
     },
     "metadata": {
      "needs_background": "light"
     },
     "output_type": "display_data"
    }
   ],
   "source": [
    "#another way visualize the skewness of the dataset\n",
    "_dfBC = df_BC.copy(deep=True)\n",
    "plt.figure(figsize=(15.5,10.5))\n",
    "sns.histplot(_dfBC, binwidth=600, kde=True)\n",
    "plt.show()"
   ]
  },
  {
   "cell_type": "code",
   "execution_count": 73,
   "id": "b931c3cb",
   "metadata": {},
   "outputs": [
    {
     "data": {
      "image/png": "[encoded data removed]",
      "text/plain": [
       "<Figure size 1116x756 with 1 Axes>"
      ]
     },
     "metadata": {
      "needs_background": "light"
     },
     "output_type": "display_data"
    }
   ],
   "source": [
    "_df = df.copy(deep=True)\n",
    "plt.figure(figsize=(15.5,10.5))\n",
    "sns.histplot(_df, binwidth=600, kde=True)\n",
    "plt.show()"
   ]
  },
  {
   "cell_type": "code",
   "execution_count": 75,
   "id": "b0f7b4ac",
   "metadata": {},
   "outputs": [],
   "source": [
    "# Relative frequency proportion"
   ]
  },
  {
   "cell_type": "code",
   "execution_count": 78,
   "id": "2e3cfaa8",
   "metadata": {},
   "outputs": [],
   "source": [
    "df_copy = df.copy(deep=True)\n",
    "_df_pivot = df_copy[['Sector', '2017PM25_tonnes']]\n"
   ]
  },
  {
   "cell_type": "code",
   "execution_count": 79,
   "id": "935a2b75",
   "metadata": {},
   "outputs": [],
   "source": [
    "_df_pivot = pd.pivot_table(_df_pivot, index=['Sector'], aggfunc = np.sum)\n",
    "_df_pivot = _df_pivot.sort_values(by='2017PM25_tonnes', ascending=False)"
   ]
  },
  {
   "cell_type": "code",
   "execution_count": 80,
   "id": "b598d23b",
   "metadata": {},
   "outputs": [
    {
     "data": {
      "text/html": [
       "<div>\n",
       "<style scoped>\n",
       "    .dataframe tbody tr th:only-of-type {\n",
       "        vertical-align: middle;\n",
       "    }\n",
       "\n",
       "    .dataframe tbody tr th {\n",
       "        vertical-align: top;\n",
       "    }\n",
       "\n",
       "    .dataframe thead th {\n",
       "        text-align: right;\n",
       "    }\n",
       "</style>\n",
       "<table border=\"1\" class=\"dataframe\">\n",
       "  <thead>\n",
       "    <tr style=\"text-align: right;\">\n",
       "      <th></th>\n",
       "      <th>2017PM25_tonnes</th>\n",
       "    </tr>\n",
       "    <tr>\n",
       "      <th>Sector</th>\n",
       "      <th></th>\n",
       "    </tr>\n",
       "  </thead>\n",
       "  <tbody>\n",
       "    <tr>\n",
       "      <th>Home Firewood Burning</th>\n",
       "      <td>154325.240786</td>\n",
       "    </tr>\n",
       "    <tr>\n",
       "      <th>not identified</th>\n",
       "      <td>141589.040651</td>\n",
       "    </tr>\n",
       "    <tr>\n",
       "      <th>Off-Road Transport</th>\n",
       "      <td>29950.215828</td>\n",
       "    </tr>\n",
       "    <tr>\n",
       "      <th>On-Road Transport</th>\n",
       "      <td>24678.398243</td>\n",
       "    </tr>\n",
       "    <tr>\n",
       "      <th>Pulp and Paper Industry</th>\n",
       "      <td>5853.507800</td>\n",
       "    </tr>\n",
       "  </tbody>\n",
       "</table>\n",
       "</div>"
      ],
      "text/plain": [
       "                         2017PM25_tonnes\n",
       "Sector                                  \n",
       "Home Firewood Burning      154325.240786\n",
       "not identified             141589.040651\n",
       "Off-Road Transport          29950.215828\n",
       "On-Road Transport           24678.398243\n",
       "Pulp and Paper Industry      5853.507800"
      ]
     },
     "execution_count": 80,
     "metadata": {},
     "output_type": "execute_result"
    }
   ],
   "source": [
    "_df_pivot.head()"
   ]
  },
  {
   "cell_type": "code",
   "execution_count": 81,
   "id": "4b900460",
   "metadata": {},
   "outputs": [
    {
     "data": {
      "text/plain": [
       "Sector\n",
       "Home Firewood Burning      39.809944\n",
       "not identified             36.524497\n",
       "Off-Road Transport          7.725997\n",
       "On-Road Transport           6.366072\n",
       "Pulp and Paper Industry     1.509979\n",
       "Name: %2017PM25_tonnes , dtype: float64"
      ]
     },
     "execution_count": 81,
     "metadata": {},
     "output_type": "execute_result"
    }
   ],
   "source": [
    "_df_pivot['%2017PM25_tonnes '] = (_df_pivot['2017PM25_tonnes']/_df_pivot['2017PM25_tonnes'].sum())*100\n",
    "tdf_ = _df_pivot['%2017PM25_tonnes ']\n",
    "tdf_.head()"
   ]
  },
  {
   "cell_type": "code",
   "execution_count": null,
   "id": "8c7697a5",
   "metadata": {},
   "outputs": [],
   "source": [
    "# Based on the given dataset roughly 60% of the black carbon emissions come from the \"Home Firewood Burning\"(40%) "
   ]
  },
  {
   "cell_type": "code",
   "execution_count": 82,
   "id": "fcd0b8aa",
   "metadata": {},
   "outputs": [
    {
     "data": {
      "image/png": "[encoded data removed]",
      "text/plain": [
       "<Figure size 1440x720 with 1 Axes>"
      ]
     },
     "metadata": {
      "needs_background": "light"
     },
     "output_type": "display_data"
    }
   ],
   "source": [
    "size = (20,10)\n",
    "fig, ax = plt.subplots(figsize=size) \n",
    "\n",
    "tdf_.plot(ax=ax, kind='bar', sort_columns =True)\n",
    "plt.title('Balck Carbon Emission', fontsize=20)\n",
    "plt.xlabel('')\n",
    "plt.show()"
   ]
  },
  {
   "cell_type": "code",
   "execution_count": 83,
   "id": "790a1c3a",
   "metadata": {},
   "outputs": [
    {
     "data": {
      "text/plain": [
       "(432, 1)"
      ]
     },
     "execution_count": 83,
     "metadata": {},
     "output_type": "execute_result"
    }
   ],
   "source": [
    "_df = df[df['2018PM25_tonnes'] != 0]\n",
    "_df = _df.sort_values(by='2018PM25_tonnes')\n",
    "_df = _df[['2018PM25_tonnes']]\n",
    "_df.shape"
   ]
  },
  {
   "cell_type": "code",
   "execution_count": 84,
   "id": "fbd52aa0",
   "metadata": {},
   "outputs": [],
   "source": [
    "copy_df = _df.copy(deep=True)"
   ]
  },
  {
   "cell_type": "code",
   "execution_count": 85,
   "id": "dcee9611",
   "metadata": {},
   "outputs": [
    {
     "data": {
      "image/png": "[encoded data removed]",
      "text/plain": [
       "<Figure size 432x288 with 1 Axes>"
      ]
     },
     "metadata": {
      "needs_background": "light"
     },
     "output_type": "display_data"
    }
   ],
   "source": [
    "#90% of the black carbon emissions had 5000pm2.5 tonnes or less\n",
    "\n",
    "x=np.sort(copy_df['2018PM25_tonnes'])\n",
    "y=np.arange(1,len(x)+1)/len(x)\n",
    "plt.plot(x,y, marker='.', linestyle='none')\n",
    "plt.title('2018 Black Carbon Emissions')\n",
    "plt.ylabel('ECDF')\n",
    "plt.xlabel('Black Carbon emissions PM2.5 tonnes in 2018')\n",
    "plt.margins(0.02)\n",
    "plt.show()"
   ]
  }
 ],
 "metadata": {
  "kernelspec": {
   "display_name": "Python 3 (ipykernel)",
   "language": "python",
   "name": "python3"
  },
  "language_info": {
   "codemirror_mode": {
    "name": "ipython",
    "version": 3
   },
   "file_extension": ".py",
   "mimetype": "text/x-python",
   "name": "python",
   "nbconvert_exporter": "python",
   "pygments_lexer": "ipython3",
   "version": "3.9.7"
  }
 },
 "nbformat": 4,
 "nbformat_minor": 5
}
